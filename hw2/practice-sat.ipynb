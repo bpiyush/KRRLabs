{
 "cells": [
  {
   "cell_type": "code",
   "execution_count": 1,
   "metadata": {},
   "outputs": [],
   "source": [
    "# Necessary libraries that will be employed\n",
    "import itertools\n",
    "from copy import deepcopy\n",
    "from dataclasses import dataclass\n",
    "from typing import List\n",
    "import numpy as np\n",
    "\n",
    "from sudoku_func import *\n",
    "\n",
    "#!{sys.executable} -m pip install clingo\n",
    "#!{sys.executable} -m pip install python-sat\n",
    "import clingo\n",
    "import pysat\n",
    "from pysat.formula import CNF\n",
    "from pysat.solvers import MinisatGH\n",
    "\n",
    "from sudoku_func import pretty_repr"
   ]
  },
  {
   "cell_type": "markdown",
   "metadata": {},
   "source": [
    "**Get positive diagonal elements**"
   ]
  },
  {
   "cell_type": "code",
   "execution_count": 2,
   "metadata": {},
   "outputs": [],
   "source": [
    "def get_positive_diagonal_elements(matrix, j):\n",
    "    \"\"\"\n",
    "    Return a list of the positive diagonal elements of the matrix.\n",
    "    \"\"\"\n",
    "    N = len(matrix)\n",
    "    idx = range(0, min(N, j) + 1)\n",
    "    for t in idx:\n",
    "        matrix[t][j - t] = 1\n",
    "    \n",
    "    return matrix"
   ]
  },
  {
   "cell_type": "code",
   "execution_count": 3,
   "metadata": {},
   "outputs": [],
   "source": [
    "def get_negative_diagonal_elements(matrix, i):\n",
    "    \"\"\"\n",
    "    Return a list of the negative diagonal elements of the matrix.\n",
    "    \"\"\"\n",
    "    N = len(matrix)\n",
    "    idx = range(0, min(N, N - i))\n",
    "    for t in idx:\n",
    "        matrix[i + t][t] = 1\n",
    "    \n",
    "    return matrix"
   ]
  },
  {
   "cell_type": "code",
   "execution_count": 4,
   "metadata": {},
   "outputs": [
    {
     "data": {
      "text/plain": [
       "[[0, 0, 0, 1, 0, 0, 0, 0, 0],\n",
       " [0, 0, 1, 0, 0, 0, 0, 0, 0],\n",
       " [0, 1, 0, 0, 0, 0, 0, 0, 0],\n",
       " [1, 0, 0, 0, 0, 0, 0, 0, 0],\n",
       " [0, 0, 0, 0, 0, 0, 0, 0, 0],\n",
       " [0, 0, 0, 0, 0, 0, 0, 0, 0],\n",
       " [0, 0, 0, 0, 0, 0, 0, 0, 0],\n",
       " [0, 0, 0, 0, 0, 0, 0, 0, 0],\n",
       " [0, 0, 0, 0, 0, 0, 0, 0, 0]]"
      ]
     },
     "execution_count": 4,
     "metadata": {},
     "output_type": "execute_result"
    }
   ],
   "source": [
    "matrix = [[0, 0, 0, 0, 0, 0, 0, 0, 0],\n",
    "          [0, 0, 0, 0, 0, 0, 0, 0, 0],\n",
    "          [0, 0, 0, 0, 0, 0, 0, 0, 0],\n",
    "          [0, 0, 0, 0, 0, 0, 0, 0, 0],\n",
    "          [0, 0, 0, 0, 0, 0, 0, 0, 0],\n",
    "          [0, 0, 0, 0, 0, 0, 0, 0, 0],\n",
    "          [0, 0, 0, 0, 0, 0, 0, 0, 0],\n",
    "          [0, 0, 0, 0, 0, 0, 0, 0, 0],\n",
    "          [0, 0, 0, 0, 0, 0, 0, 0, 0],\n",
    "]\n",
    "# matrix = np.zeros((9, 9), dtype=int)\n",
    "get_positive_diagonal_elements(matrix, 3)"
   ]
  },
  {
   "cell_type": "code",
   "execution_count": 5,
   "metadata": {},
   "outputs": [
    {
     "data": {
      "text/plain": [
       "[[0, 0, 0, 0, 0, 0, 0, 0, 0],\n",
       " [0, 0, 0, 0, 0, 0, 0, 0, 0],\n",
       " [0, 0, 0, 0, 0, 0, 0, 0, 0],\n",
       " [0, 0, 0, 0, 0, 0, 0, 0, 0],\n",
       " [0, 0, 0, 0, 0, 0, 0, 0, 0],\n",
       " [0, 0, 0, 0, 0, 0, 0, 0, 0],\n",
       " [0, 0, 0, 0, 0, 0, 0, 0, 0],\n",
       " [1, 0, 0, 0, 0, 0, 0, 0, 0],\n",
       " [0, 1, 0, 0, 0, 0, 0, 0, 0]]"
      ]
     },
     "execution_count": 5,
     "metadata": {},
     "output_type": "execute_result"
    }
   ],
   "source": [
    "matrix = [[0, 0, 0, 0, 0, 0, 0, 0, 0],\n",
    "          [0, 0, 0, 0, 0, 0, 0, 0, 0],\n",
    "          [0, 0, 0, 0, 0, 0, 0, 0, 0],\n",
    "          [0, 0, 0, 0, 0, 0, 0, 0, 0],\n",
    "          [0, 0, 0, 0, 0, 0, 0, 0, 0],\n",
    "          [0, 0, 0, 0, 0, 0, 0, 0, 0],\n",
    "          [0, 0, 0, 0, 0, 0, 0, 0, 0],\n",
    "          [0, 0, 0, 0, 0, 0, 0, 0, 0],\n",
    "          [0, 0, 0, 0, 0, 0, 0, 0, 0],\n",
    "]\n",
    "# matrix = np.zeros((9, 9), dtype=int)\n",
    "get_negative_diagonal_elements(matrix, 7)"
   ]
  },
  {
   "cell_type": "code",
   "execution_count": 6,
   "metadata": {},
   "outputs": [],
   "source": [
    "def zigzag_southwest_to_northeast(matrix):\n",
    "    n = len(matrix)\n",
    "    \n",
    "    for i in range(0, n):\n",
    "        t = 0\n",
    "        while t < n and t <= i:\n",
    "            matrix[i - t][t] = i\n",
    "            t += 1\n",
    "    \n",
    "    for j in range(1, n):\n",
    "        t = 0\n",
    "        while t<= (n - 1) and (j + t < n):\n",
    "            matrix[n - 1 - t][j + t] = j\n",
    "            t += 1\n",
    "\n",
    "    return matrix"
   ]
  },
  {
   "cell_type": "code",
   "execution_count": 7,
   "metadata": {},
   "outputs": [
    {
     "data": {
      "text/plain": [
       "[[0, 1, 2, 3, 4, 5, 6, 7, 8],\n",
       " [1, 2, 3, 4, 5, 6, 7, 8, 1],\n",
       " [2, 3, 4, 5, 6, 7, 8, 1, 2],\n",
       " [3, 4, 5, 6, 7, 8, 1, 2, 3],\n",
       " [4, 5, 6, 7, 8, 1, 2, 3, 4],\n",
       " [5, 6, 7, 8, 1, 2, 3, 4, 5],\n",
       " [6, 7, 8, 1, 2, 3, 4, 5, 6],\n",
       " [7, 8, 1, 2, 3, 4, 5, 6, 7],\n",
       " [8, 1, 2, 3, 4, 5, 6, 7, 8]]"
      ]
     },
     "execution_count": 7,
     "metadata": {},
     "output_type": "execute_result"
    }
   ],
   "source": [
    "matrix = [[0, 0, 0, 0, 0, 0, 0, 0, 0],\n",
    "          [0, 0, 0, 0, 0, 0, 0, 0, 0],\n",
    "          [0, 0, 0, 0, 0, 0, 0, 0, 0],\n",
    "          [0, 0, 0, 0, 0, 0, 0, 0, 0],\n",
    "          [0, 0, 0, 0, 0, 0, 0, 0, 0],\n",
    "          [0, 0, 0, 0, 0, 0, 0, 0, 0],\n",
    "          [0, 0, 0, 0, 0, 0, 0, 0, 0],\n",
    "          [0, 0, 0, 0, 0, 0, 0, 0, 0],\n",
    "          [0, 0, 0, 0, 0, 0, 0, 0, 0],\n",
    "]\n",
    "zigzag_southwest_to_northeast(matrix)"
   ]
  },
  {
   "cell_type": "code",
   "execution_count": 8,
   "metadata": {},
   "outputs": [],
   "source": [
    "def zigzag_northwest_to_southeast(matrix):\n",
    "    n = len(matrix)\n",
    "    \n",
    "    for i in range(0, n):\n",
    "        t = 0\n",
    "        while t<= (n - 1) and (i + t < n):\n",
    "            matrix[i + t][t] = i\n",
    "            t += 1\n",
    "\n",
    "    for j in range(1, n):\n",
    "    # for j in [3]:\n",
    "        t = 0\n",
    "        while t < n and t + j < n:\n",
    "            matrix[t][j + t] = j\n",
    "            t += 1\n",
    "    \n",
    "    return matrix"
   ]
  },
  {
   "cell_type": "code",
   "execution_count": 9,
   "metadata": {},
   "outputs": [
    {
     "data": {
      "text/plain": [
       "[[0, 1, 2, 3, 4, 5, 6, 7, 8],\n",
       " [1, 0, 1, 2, 3, 4, 5, 6, 7],\n",
       " [2, 1, 0, 1, 2, 3, 4, 5, 6],\n",
       " [3, 2, 1, 0, 1, 2, 3, 4, 5],\n",
       " [4, 3, 2, 1, 0, 1, 2, 3, 4],\n",
       " [5, 4, 3, 2, 1, 0, 1, 2, 3],\n",
       " [6, 5, 4, 3, 2, 1, 0, 1, 2],\n",
       " [7, 6, 5, 4, 3, 2, 1, 0, 1],\n",
       " [8, 7, 6, 5, 4, 3, 2, 1, 0]]"
      ]
     },
     "execution_count": 9,
     "metadata": {},
     "output_type": "execute_result"
    }
   ],
   "source": [
    "matrix = [[0, 0, 0, 0, 0, 0, 0, 0, 0],\n",
    "          [0, 0, 0, 0, 0, 0, 0, 0, 0],\n",
    "          [0, 0, 0, 0, 0, 0, 0, 0, 0],\n",
    "          [0, 0, 0, 0, 0, 0, 0, 0, 0],\n",
    "          [0, 0, 0, 0, 0, 0, 0, 0, 0],\n",
    "          [0, 0, 0, 0, 0, 0, 0, 0, 0],\n",
    "          [0, 0, 0, 0, 0, 0, 0, 0, 0],\n",
    "          [0, 0, 0, 0, 0, 0, 0, 0, 0],\n",
    "          [0, 0, 0, 0, 0, 0, 0, 0, 0],\n",
    "]\n",
    "zigzag_northwest_to_southeast(matrix)"
   ]
  },
  {
   "cell_type": "markdown",
   "metadata": {},
   "source": [
    "**Neighborhood of a cell**"
   ]
  },
  {
   "cell_type": "code",
   "execution_count": 10,
   "metadata": {},
   "outputs": [
    {
     "name": "stdout",
     "output_type": "stream",
     "text": [
      "[['N' 'N' 'N' '0' '0' '0' '0' '0' '0']\n",
      " ['N' 'N' 'N' '0' '0' '0' '0' '0' '0']\n",
      " ['N' 'N' 'N' '0' '0' '0' '0' '0' '0']\n",
      " ['0' '0' '0' '0' '0' '0' '0' '0' '0']\n",
      " ['0' '0' '0' '0' '0' '0' '0' '0' '0']\n",
      " ['0' '0' '0' '0' '0' '0' '0' '0' '0']\n",
      " ['0' '0' '0' '0' '0' '0' '0' '0' '0']\n",
      " ['0' '0' '0' '0' '0' '0' '0' '0' '0']\n",
      " ['0' '0' '0' '0' '0' '0' '0' '0' '0']]\n"
     ]
    }
   ],
   "source": [
    "import itertools\n",
    "\n",
    "matrix = np.zeros((9, 9), dtype=int)\n",
    "n = len(matrix)\n",
    "matrix = matrix.astype(str)\n",
    "\n",
    "i, j = 1, 1\n",
    "\n",
    "somelists = [\n",
    "   [max(i - 1, 0), i, min(n - 1, i + 1)],\n",
    "   [max(j - 1, 0), j, min(n - 1, j + 1)],\n",
    "]\n",
    "for element in itertools.product(*somelists):\n",
    "    matrix[element[0]][element[1]] = \"N\"\n",
    "\n",
    "print(matrix)"
   ]
  },
  {
   "cell_type": "markdown",
   "metadata": {},
   "source": [
    "**k-k blocks**"
   ]
  },
  {
   "cell_type": "code",
   "execution_count": 11,
   "metadata": {},
   "outputs": [
    {
     "name": "stdout",
     "output_type": "stream",
     "text": [
      ".-------------.-------------.-------------.-------------.\n",
      "| (0, 0) (0, 0) (0, 0) (0, 0) | (0, 1) (0, 1) (0, 1) (0, 1) | (0, 2) (0, 2) (0, 2) (0, 2) | (0, 3) (0, 3) (0, 3) (0, 3) | \n",
      "| (0, 0) (0, 0) (0, 0) (0, 0) | (0, 1) (0, 1) (0, 1) (0, 1) | (0, 2) (0, 2) (0, 2) (0, 2) | (0, 3) (0, 3) (0, 3) (0, 3) | \n",
      "| (0, 0) (0, 0) (0, 0) (0, 0) | (0, 1) (0, 1) (0, 1) (0, 1) | (0, 2) (0, 2) (0, 2) (0, 2) | (0, 3) (0, 3) (0, 3) (0, 3) | \n",
      "| (0, 0) (0, 0) (0, 0) (0, 0) | (0, 1) (0, 1) (0, 1) (0, 1) | (0, 2) (0, 2) (0, 2) (0, 2) | (0, 3) (0, 3) (0, 3) (0, 3) | \n",
      ".-------------.-------------.-------------.-------------.\n",
      "| (1, 0) (1, 0) (1, 0) (1, 0) | (1, 1) (1, 1) (1, 1) (1, 1) | (1, 2) (1, 2) (1, 2) (1, 2) | (1, 3) (1, 3) (1, 3) (1, 3) | \n",
      "| (1, 0) (1, 0) (1, 0) (1, 0) | (1, 1) (1, 1) (1, 1) (1, 1) | (1, 2) (1, 2) (1, 2) (1, 2) | (1, 3) (1, 3) (1, 3) (1, 3) | \n",
      "| (1, 0) (1, 0) (1, 0) (1, 0) | (1, 1) (1, 1) (1, 1) (1, 1) | (1, 2) (1, 2) (1, 2) (1, 2) | (1, 3) (1, 3) (1, 3) (1, 3) | \n",
      "| (1, 0) (1, 0) (1, 0) (1, 0) | (1, 1) (1, 1) (1, 1) (1, 1) | (1, 2) (1, 2) (1, 2) (1, 2) | (1, 3) (1, 3) (1, 3) (1, 3) | \n",
      ".-------------.-------------.-------------.-------------.\n",
      "| (2, 0) (2, 0) (2, 0) (2, 0) | (2, 1) (2, 1) (2, 1) (2, 1) | (2, 2) (2, 2) (2, 2) (2, 2) | (2, 3) (2, 3) (2, 3) (2, 3) | \n",
      "| (2, 0) (2, 0) (2, 0) (2, 0) | (2, 1) (2, 1) (2, 1) (2, 1) | (2, 2) (2, 2) (2, 2) (2, 2) | (2, 3) (2, 3) (2, 3) (2, 3) | \n",
      "| (2, 0) (2, 0) (2, 0) (2, 0) | (2, 1) (2, 1) (2, 1) (2, 1) | (2, 2) (2, 2) (2, 2) (2, 2) | (2, 3) (2, 3) (2, 3) (2, 3) | \n",
      "| (2, 0) (2, 0) (2, 0) (2, 0) | (2, 1) (2, 1) (2, 1) (2, 1) | (2, 2) (2, 2) (2, 2) (2, 2) | (2, 3) (2, 3) (2, 3) (2, 3) | \n",
      ".-------------.-------------.-------------.-------------.\n",
      "| (3, 0) (3, 0) (3, 0) (3, 0) | (3, 1) (3, 1) (3, 1) (3, 1) | (3, 2) (3, 2) (3, 2) (3, 2) | (3, 3) (3, 3) (3, 3) (3, 3) | \n",
      "| (3, 0) (3, 0) (3, 0) (3, 0) | (3, 1) (3, 1) (3, 1) (3, 1) | (3, 2) (3, 2) (3, 2) (3, 2) | (3, 3) (3, 3) (3, 3) (3, 3) | \n",
      "| (3, 0) (3, 0) (3, 0) (3, 0) | (3, 1) (3, 1) (3, 1) (3, 1) | (3, 2) (3, 2) (3, 2) (3, 2) | (3, 3) (3, 3) (3, 3) (3, 3) | \n",
      "| (3, 0) (3, 0) (3, 0) (3, 0) | (3, 1) (3, 1) (3, 1) (3, 1) | (3, 2) (3, 2) (3, 2) (3, 2) | (3, 3) (3, 3) (3, 3) (3, 3) | \n",
      ".-------------.-------------.-------------.-------------.\n"
     ]
    }
   ],
   "source": [
    "k = 4\n",
    "matrix = np.zeros((k * k, k * k), dtype=object)\n",
    "# matrix = matrix.astype(str)\n",
    "\n",
    "for I in range(k):\n",
    "    for J in range(k):\n",
    "        i_range = range(I * k, (I + 1) * k)\n",
    "        j_range = range(J * k, (J + 1) * k)\n",
    "        for i in i_range:\n",
    "            for j in j_range:\n",
    "                matrix[i][j] = str(tuple((I, J)))\n",
    "\n",
    "print(pretty_repr(matrix, k))"
   ]
  },
  {
   "cell_type": "markdown",
   "metadata": {},
   "source": [
    "### Trying to solve a Sudoku"
   ]
  },
  {
   "cell_type": "code",
   "execution_count": 12,
   "metadata": {},
   "outputs": [],
   "source": [
    "sudoku=[[9, 5, 6, 0, 0, 4, 0, 0, 0],\n",
    "        [3, 7, 8, 9, 5, 6, 0, 0, 0],\n",
    "        [0, 0, 4, 3, 7, 8, 0, 0, 0],\n",
    "        [8, 9, 5, 6, 0, 0, 0, 0, 0],\n",
    "        [4, 3, 7, 8, 9, 5, 0, 0, 0],\n",
    "        [6, 0, 0, 4, 3, 0, 0, 0, 0],\n",
    "        [7, 8, 9, 5, 6, 0, 0, 0, 0],\n",
    "        [0, 4, 3, 7, 8, 0, 0, 0, 0],\n",
    "        [5, 6, 0, 0, 4, 0, 0, 0, 0]]"
   ]
  },
  {
   "cell_type": "code",
   "execution_count": 32,
   "metadata": {},
   "outputs": [],
   "source": [
    "sudoku=[[0, 0, 0, 0, 0, 0, 0, 0, 0],\n",
    "        [0, 3, 0, 0, 8, 0, 0, 0, 0],\n",
    "        [0, 0, 0, 0, 0, 0, 0, 0, 0],\n",
    "        [0, 0, 0, 0, 4, 0, 0, 0, 5],\n",
    "        [0, 0, 0, 0, 0, 0, 0, 2, 7],\n",
    "        [0, 0, 0, 0, 0, 0, 3, 0, 0],\n",
    "        [0, 0, 0, 0, 0, 0, 9, 0, 0],\n",
    "        [0, 0, 0, 0, 5, 6, 0, 0, 0],\n",
    "        [0, 0, 0, 0, 0, 0, 0, 0, 0]]"
   ]
  },
  {
   "cell_type": "code",
   "execution_count": 33,
   "metadata": {},
   "outputs": [],
   "source": [
    "N = len(sudoku)\n",
    "k = int(N ** 0.5)"
   ]
  },
  {
   "cell_type": "code",
   "execution_count": 34,
   "metadata": {},
   "outputs": [
    {
     "data": {
      "text/plain": [
       "(9, 3)"
      ]
     },
     "execution_count": 34,
     "metadata": {},
     "output_type": "execute_result"
    }
   ],
   "source": [
    "N, k"
   ]
  },
  {
   "cell_type": "code",
   "execution_count": 35,
   "metadata": {},
   "outputs": [],
   "source": [
    "def describe_cnf(cnf):\n",
    "    \"\"\"Prints relevant information about the CNF.\"\"\"\n",
    "    print(\"Number of variables:\", cnf.nv)\n",
    "    print(\"Number of clauses:\", len(cnf.clauses))\n",
    "    print(\"Number of literals:\", sum(len(clause) for clause in cnf.clauses))\n",
    "    print(\"Number of clauses per variable:\", cnf.nv / len(cnf.clauses))"
   ]
  },
  {
   "cell_type": "code",
   "execution_count": 46,
   "metadata": {},
   "outputs": [],
   "source": [
    "def solve_sudoku_SAT(sudoku, k=3):\n",
    "    N = len(sudoku)\n",
    "    from pysat.formula import CNF, IDPool\n",
    "\n",
    "    # Notation: P_ijl is a propositional variable that is true iff the cell at row i, column j has value l.\n",
    "    vpool = IDPool(start_from=1)\n",
    "    P = lambda i, j, l: vpool.id('P{0}@{1}@{2}'.format(i, j, l))\n",
    "\n",
    "    # variables = {\n",
    "    #     i * j * l: P(i, j, l) for i in range(N) for j in range(N) for l in range(1, N+1)\n",
    "    #     }\n",
    "\n",
    "    variables = {\n",
    "        P(i, j, l): (i, j, l) for i in range(N) for j in range(N) for l in range(1, N+1)\n",
    "    }\n",
    "    \n",
    "    # indices = [(i, j, k) for i in range(N) for j in range(N) for l in range(1, N+1)]\n",
    "    # indices = [P(i, j, k) for i in range(N) for j in range(N) for l in range(1, N+1)]\n",
    "\n",
    "    # initialize the formula\n",
    "    cnf = CNF()\n",
    "\n",
    "    # Constrain 1A: Each cell must contain a value between 1 and N.\n",
    "    for i in range(N):\n",
    "        for j in range(N):\n",
    "            cnf.append([P(i, j, l) for l in range(1, N + 1)])\n",
    "\n",
    "    # Constrain 1B; Each cell contains at most 1 number.\n",
    "    for i in range(N):\n",
    "        for j in range(N):\n",
    "            for l in range(1, N):\n",
    "                for m in range(l + 1, N + 1):\n",
    "                    cnf.append([-P(i, j, l), -P(i, j, m)])\n",
    "\n",
    "    # Constraint 2: Each row contains all numbers.\n",
    "    # For each row i, for each number l, there must be a cell in row i that contains l.\n",
    "    for i in range(N):\n",
    "        for l in range(1, N + 1):\n",
    "            cnf.append([P(i, j, l) for j in range(N)])\n",
    "\n",
    "    # Constaint 3: Each column contains all numbers.\n",
    "    # For each column j, for each number l, there must be a cell in column j that contains l.\n",
    "    for j in range(N):\n",
    "        for l in range(1, N + 1):\n",
    "            cnf.append([P(i, j, l) for i in range(N)])\n",
    "\n",
    "    # Constraint 4: Each kxk sub-grid contains all numbers.\n",
    "    for I in range(k):\n",
    "        for J in range(k):\n",
    "            i_range = range(I * k, (I + 1) * k)\n",
    "            j_range = range(J * k, (J + 1) * k)\n",
    "            for l in range(1, N + 1):\n",
    "                cnf.append([P(i, j, l) for i in i_range for j in j_range])\n",
    "\n",
    "    # Constraint 5: For every cell, its neighborhood should not contain\n",
    "    # the same element as the cell\n",
    "    for i in range(N):\n",
    "        for j in range(N):\n",
    "            ij_ranges = [\n",
    "                [max(i - 1, 0), i, min(n - 1, i + 1)],\n",
    "                [max(j - 1, 0), j, min(n - 1, j + 1)],\n",
    "            ]\n",
    "            ngbd = itertools.product(*ij_ranges)\n",
    "            for l in range(1, N + 1):\n",
    "                for (i_, j_) in ngbd:\n",
    "                    if i_ != i or j_ != j:\n",
    "                        cnf.append([-P(i, j, l), -P(i_, j_, l)])\n",
    "\n",
    "    # Constraint 6: Knight's constraint\n",
    "    for i, j in itertools.product(range(0, k**2), repeat=2):\n",
    "        for i_, j_ in [(1, 2), (1, -2), (-1, 2), (-1, -2),\n",
    "                       (2, 1), (-2, 1), (2, -1), (-2, -1)]:\n",
    "            if i_ != 0 or j_ != 0:\n",
    "                i_ += i\n",
    "                j_ += j\n",
    "                \n",
    "                for l in range(1, N + 1):\n",
    "                    if 0 <= i_ < N and 0 <= j_ < N:\n",
    "                        cnf.append([-P(i, j, l), -P(i_, j_, l)])\n",
    "    \n",
    "    # Contraint 7: Retain values provided in the input sudoku.\n",
    "    for i in range(N):\n",
    "        for j in range(N):\n",
    "            if sudoku[i][j] != 0:\n",
    "                cnf.append([P(i, j, sudoku[i][j])])\n",
    "\n",
    "    # print characteristics of the formula\n",
    "    print(\"CNF details:\")\n",
    "    describe_cnf(cnf)\n",
    "    print()\n",
    "\n",
    "    # solve the formula\n",
    "    from pysat.solvers import MinisatGH\n",
    "    solver = MinisatGH()\n",
    "    solver.append_formula(cnf)\n",
    "    \n",
    "    def filter_model(model):\n",
    "        filter_literals = [variables[lit] for lit in model if lit > 0]\n",
    "        solved_sudoku = deepcopy(sudoku)\n",
    "        for (i, j, l) in filter_literals:\n",
    "            solved_sudoku[i][j] = l\n",
    "        return solved_sudoku\n",
    "\n",
    "    def create_generator():\n",
    "        for model in solver.enum_models():\n",
    "            yield filter_model(model)\n",
    "\n",
    "    # solutions = (filter_model(model) for model in solver.enum_models())\n",
    "    solutions = create_generator()\n",
    "\n",
    "    sample_solution = next(solutions)\n",
    "    print(\"Input:\")\n",
    "    print(pretty_repr(sudoku, k=k))\n",
    "    print()\n",
    "    print(\"Solution:\")\n",
    "    print(pretty_repr(sample_solution, k=k))\n",
    "    print()"
   ]
  },
  {
   "cell_type": "code",
   "execution_count": 47,
   "metadata": {},
   "outputs": [
    {
     "name": "stdout",
     "output_type": "stream",
     "text": [
      "CNF details:\n",
      "Number of variables: 729\n",
      "Number of clauses: 7890\n",
      "Number of literals: 18038\n",
      "Number of clauses per variable: 0.09239543726235741\n",
      "\n",
      "Input:\n",
      ".-------.-------.-------.\n",
      "|       |       |       | \n",
      "|   3   |   8   |       | \n",
      "|       |       |       | \n",
      ".-------.-------.-------.\n",
      "|       |   4   |     5 | \n",
      "|       |       |   2 7 | \n",
      "|       |       | 3     | \n",
      ".-------.-------.-------.\n",
      "|       |       | 9     | \n",
      "|       |   5 6 |       | \n",
      "|       |       |       | \n",
      ".-------.-------.-------.\n",
      "\n",
      "Solution:\n",
      ".-------.-------.-------.\n",
      "| 2 9 5 | 7 6 4 | 1 3 8 | \n",
      "| 4 3 7 | 1 8 9 | 5 6 2 | \n",
      "| 1 8 6 | 2 3 5 | 7 4 9 | \n",
      ".-------.-------.-------.\n",
      "| 9 6 2 | 3 4 7 | 8 1 5 | \n",
      "| 3 4 1 | 5 9 8 | 6 2 7 | \n",
      "| 5 7 8 | 6 2 1 | 3 9 4 | \n",
      ".-------.-------.-------.\n",
      "| 6 5 3 | 4 7 2 | 9 8 1 | \n",
      "| 8 1 4 | 9 5 6 | 2 7 3 | \n",
      "| 7 2 9 | 8 1 3 | 4 5 6 | \n",
      ".-------.-------.-------.\n",
      "\n"
     ]
    }
   ],
   "source": [
    "solve_sudoku_SAT(sudoku)"
   ]
  },
  {
   "cell_type": "code",
   "execution_count": 272,
   "metadata": {},
   "outputs": [
    {
     "name": "stdout",
     "output_type": "stream",
     "text": [
      "Number of variables: 729\n",
      "Number of clauses: 5295\n",
      "Number of literals: 12819\n",
      "Number of clauses per variable: 0.1376770538243626\n"
     ]
    }
   ],
   "source": [
    "# Notation: P_ijl is a propositional variable that is true iff the cell at row i, column j has value l.\n",
    "vpool = IDPool(start_from=1)\n",
    "P = lambda i, j, l: vpool.id('P{0}@{1}@{2}'.format(i, j, l))\n",
    "\n",
    "# initialize the formula\n",
    "cnf = CNF()\n",
    "\n",
    "# Constrain 1A: Each cell must contain a value between 1 and N.\n",
    "for i in range(N):\n",
    "    for j in range(N):\n",
    "        cnf.append([P(i, j, l) for l in range(1, N + 1)])\n",
    "\n",
    "# Constrain 1B; Each cell contains at most 1 number.\n",
    "for i in range(N):\n",
    "    for j in range(N):\n",
    "        for l in range(1, N):\n",
    "            for m in range(l + 1, N + 1):\n",
    "                cnf.append([-P(i, j, l), -P(i, j, m)])\n",
    "\n",
    "# Constraint 2: Each row contains all numbers.\n",
    "# For each row i, for each number l, there must be a cell in row i that contains l.\n",
    "for i in range(N):\n",
    "    for l in range(1, N + 1):\n",
    "        cnf.append([P(i, j, l) for j in range(N)])\n",
    "\n",
    "# Constaint 3: Each column contains all numbers.\n",
    "# For each column j, for each number l, there must be a cell in column j that contains l.\n",
    "for j in range(N):\n",
    "    for l in range(1, N + 1):\n",
    "        cnf.append([P(i, j, l) for i in range(N)])\n",
    "\n",
    "# Constraint 4: Each kxk sub-grid contains all numbers.\n",
    "for I in range(k):\n",
    "    for J in range(k):\n",
    "        i_range = range(I * k, (I + 1) * k)\n",
    "        j_range = range(J * k, (J + 1) * k)\n",
    "        for l in range(1, N + 1):\n",
    "            cnf.append([P(i, j, l) for i in i_range for j in j_range])\n",
    "\n",
    "\n",
    "# Constraint 5: For no cell, the same value occurs in its neighborhood.\n",
    "for i in range(N):\n",
    "    for j in range(N):\n",
    "        ij_ranges = [\n",
    "            [max(i - 1, 0), i, min(n - 1, i + 1)],\n",
    "            [max(j - 1, 0), j, min(n - 1, j + 1)],\n",
    "        ]\n",
    "        ngbd = itertools.product(*somelists)\n",
    "        for l in range(1, N + 1):\n",
    "            for (i_, j_) in ngbd:\n",
    "                if i_ == i and j_ == j:\n",
    "                    continue\n",
    "                cnf.append([-P(i, j, l), -P(i_, j_, l)])\n",
    "\n",
    "# Constraint 6: All zig-zag paths are clear of having duplicates.\n",
    "# Part A: north-west to south-east\n",
    "indices = []\n",
    "for i in range(N):\n",
    "    i_pivot, j_pivot = i, 0\n",
    "    for l in range(1, N + 1):\n",
    "        path_indices = []\n",
    "        t = 1\n",
    "        while t < N and (i + t < N):\n",
    "            # if P(i_pivot, j_pivot, l), then none of the others \n",
    "            # can have value l at the same time.\n",
    "            cnf.append([-P(i_pivot, j_pivot, l), -P(i + 1, t, l)])\n",
    "            t += 1\n",
    "\n",
    "for j in range(N):\n",
    "    i_pivot, j_pivot = 0, j\n",
    "    for l in range(1, N + 1):\n",
    "        t = 1\n",
    "        while t < N and t + j < N:\n",
    "            cnf.append([-P(i_pivot, j_pivot, l), -P(t, j + t, l)])\n",
    "            # matrix[t][j + t] = j\n",
    "            t += 1\n",
    "\n",
    "# Part B: south-west to north-east\n",
    "for i in range(N):\n",
    "    i_pivot, j_pivot = i, 0\n",
    "    for l in range(1, N + 1):\n",
    "        t = 1\n",
    "        while t < N and t <= i:\n",
    "            cnf.append([-P(i_pivot, j_pivot, l), -P(i - t, t, l)])\n",
    "            # matrix[i - t][t] = i\n",
    "            t += 1\n",
    "\n",
    "for j in range(N):\n",
    "    i_pivot, j_pivot = 0, j\n",
    "    for l in range(1, N + 1):\n",
    "        t = 1\n",
    "        while t < N and (j + t < N):\n",
    "            cnf.append([-P(i_pivot, j_pivot, l), -P(N - 1 - t, j + t, l)])\n",
    "            # matrix[N - 1 - t][j + t] = j\n",
    "            t += 1\n",
    "\n",
    "# Contraint 7: Retain values provided in the input sudoku.\n",
    "for i in range(N):\n",
    "    for j in range(N):\n",
    "        if sudoku[i][j] != 0:\n",
    "            cnf.append([P(i, j, sudoku[i][j])])\n",
    "\n",
    "# print(cnf.nv), print(len(cnf.clauses))\n",
    "describe_cnf(cnf)"
   ]
  },
  {
   "cell_type": "code",
   "execution_count": 284,
   "metadata": {},
   "outputs": [],
   "source": [
    "from pysat.solvers import MinisatGH\n",
    "solver = MinisatGH()\n",
    "solver.append_formula(cnf)\n",
    "\n",
    "for i, model in enumerate(solver.enum_models(), 2):\n",
    "    print(\"MODEL #{}:\".format(i))\n",
    "    for lit in model:\n",
    "        if lit > 0:\n",
    "            print(\"Variable {} is true\".format(lit))\n",
    "        else:\n",
    "            print(\"Variable {} is false\".format(-1*lit))"
   ]
  },
  {
   "cell_type": "code",
   "execution_count": 286,
   "metadata": {},
   "outputs": [],
   "source": [
    "for i, model in enumerate(solver.enum_models(), 2):\n",
    "    print(i, model)"
   ]
  },
  {
   "cell_type": "code",
   "execution_count": 280,
   "metadata": {},
   "outputs": [],
   "source": [
    "solver.get_core()"
   ]
  },
  {
   "cell_type": "code",
   "execution_count": 228,
   "metadata": {},
   "outputs": [],
   "source": [
    "\n",
    "pigeon = lambda i, j: vpool.id('pigeon{0}@{1}'.format(i, j))"
   ]
  },
  {
   "cell_type": "code",
   "execution_count": 233,
   "metadata": {},
   "outputs": [
    {
     "data": {
      "text/plain": [
       "5"
      ]
     },
     "execution_count": 233,
     "metadata": {},
     "output_type": "execute_result"
    }
   ],
   "source": [
    "pigeon(2, 10)"
   ]
  },
  {
   "cell_type": "code",
   "execution_count": 234,
   "metadata": {},
   "outputs": [],
   "source": []
  },
  {
   "cell_type": "code",
   "execution_count": 241,
   "metadata": {},
   "outputs": [],
   "source": [
    "cnf.append([P(2, 2000, 1)])"
   ]
  },
  {
   "cell_type": "code",
   "execution_count": 242,
   "metadata": {},
   "outputs": [
    {
     "data": {
      "text/plain": [
       "<pysat.formula.CNF at 0x107010d00>"
      ]
     },
     "execution_count": 242,
     "metadata": {},
     "output_type": "execute_result"
    }
   ],
   "source": [
    "cnf"
   ]
  },
  {
   "cell_type": "code",
   "execution_count": 243,
   "metadata": {},
   "outputs": [
    {
     "data": {
      "text/plain": [
       "211"
      ]
     },
     "execution_count": 243,
     "metadata": {},
     "output_type": "execute_result"
    }
   ],
   "source": [
    "cnf.nv"
   ]
  },
  {
   "cell_type": "code",
   "execution_count": null,
   "metadata": {},
   "outputs": [],
   "source": []
  }
 ],
 "metadata": {
  "interpreter": {
   "hash": "8993de2631d061211a0f335f7e588f20373f179d18408ee0d345f487e45cb756"
  },
  "kernelspec": {
   "display_name": "Python 3 (ipykernel)",
   "language": "python",
   "name": "python3"
  },
  "language_info": {
   "codemirror_mode": {
    "name": "ipython",
    "version": 3
   },
   "file_extension": ".py",
   "mimetype": "text/x-python",
   "name": "python",
   "nbconvert_exporter": "python",
   "pygments_lexer": "ipython3",
   "version": "3.9.10"
  }
 },
 "nbformat": 4,
 "nbformat_minor": 4
}
